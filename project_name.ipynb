
import random

random_number = random.randint(1, 100)

print("生成的随机数为：", random_number)

